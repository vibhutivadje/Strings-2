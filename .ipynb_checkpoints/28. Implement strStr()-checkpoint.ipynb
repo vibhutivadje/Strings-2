{
 "cells": [
  {
   "cell_type": "markdown",
   "metadata": {},
   "source": [
    "# Problem"
   ]
  },
  {
   "cell_type": "markdown",
   "metadata": {},
   "source": [
    "https://leetcode.com/problems/implement-strstr/"
   ]
  },
  {
   "cell_type": "markdown",
   "metadata": {},
   "source": [
    "Implement strStr().\n",
    "\n",
    "Return the index of the first occurrence of needle in haystack, or -1 if needle is not part of haystack.\n",
    "\n",
    "Clarification:\n",
    "\n",
    "What should we return when needle is an empty string? This is a great question to ask during an interview.\n",
    "\n",
    "For the purpose of this problem, we will return 0 when needle is an empty string. This is consistent to C's strstr() and Java's indexOf().\n",
    "\n"
   ]
  },
  {
   "cell_type": "markdown",
   "metadata": {},
   "source": [
    "Example 1: <br>\n",
    "\n",
    "Input: haystack = \"hello\", needle = \"ll\" <br>\n",
    "Output: 2 <br>"
   ]
  },
  {
   "cell_type": "markdown",
   "metadata": {},
   "source": [
    "Example 2:<br>\n",
    "\n",
    "Input: haystack = \"aaaaa\", needle = \"bba\"<br>\n",
    "Output: -1 <br>"
   ]
  },
  {
   "cell_type": "markdown",
   "metadata": {},
   "source": [
    "Example 3:<br>\n",
    "\n",
    "Input: haystack = \"\", needle = \"\"<br>\n",
    "Output: 0<br>"
   ]
  },
  {
   "cell_type": "markdown",
   "metadata": {},
   "source": [
    "# Solution1:"
   ]
  },
  {
   "cell_type": "code",
   "execution_count": 9,
   "metadata": {},
   "outputs": [
    {
     "data": {
      "text/plain": [
       "0"
      ]
     },
     "execution_count": 9,
     "metadata": {},
     "output_type": "execute_result"
    }
   ],
   "source": [
    "def strStr(haystack, needle):\n",
    "    if haystack is \"\" and needle is \"\":\n",
    "        return 0\n",
    "    n_size = len(needle)\n",
    "    for i in range(len(haystack)):\n",
    "        if haystack[i: i+n_size] == needle:\n",
    "            return i\n",
    "    return -1\n",
    "# strStr(haystack = \"hello\", needle = \"ll\")\n",
    "# strStr(haystack = \"aaaaa\", needle = \"bba\")\n",
    "strStr(haystack = \"\", needle = \"\")\n",
    "\n",
    "#Time complexity: O(n*m)"
   ]
  },
  {
   "cell_type": "code",
   "execution_count": null,
   "metadata": {},
   "outputs": [],
   "source": []
  }
 ],
 "metadata": {
  "kernelspec": {
   "display_name": "Python 3",
   "language": "python",
   "name": "python3"
  },
  "language_info": {
   "codemirror_mode": {
    "name": "ipython",
    "version": 3
   },
   "file_extension": ".py",
   "mimetype": "text/x-python",
   "name": "python",
   "nbconvert_exporter": "python",
   "pygments_lexer": "ipython3",
   "version": "3.7.7"
  }
 },
 "nbformat": 4,
 "nbformat_minor": 4
}
